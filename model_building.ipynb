{
  "cells": [
    {
      "cell_type": "markdown",
      "metadata": {
        "id": "YyDQsBt08R_J"
      },
      "source": [
        "### **Predictive data analysis with the Random Forest machine learning algorithm**\n",
        "\n",
        "### Stage 3 Notebook Contents:\n",
        "\n",
        "1. Notebook setup - libraries and data import\n",
        "4. Selection of dependent and independent variables\n",
        "5. Dataset splitting into training and testing subsets\n",
        "6. Feature selection with recursive feature elimination and cross-validation\n",
        "7. Hyperparameter tuning of a random forest model with cross-validation\n",
        "8. Train and evaluate the model with the best hyperparameters on the training data with cross-validation\n",
        "9. Validate the model on the test subset (previously unseen data)\n",
        "10. Conclusions\n",
        "\n",
        "***"
      ]
    },
    {
      "cell_type": "markdown",
      "metadata": {
        "id": "Ekgvt49A5L1v"
      },
      "source": [
        "### Import essential libraries"
      ]
    },
    {
      "cell_type": "code",
      "execution_count": 2,
      "metadata": {
        "id": "PwW6ELH7Hrel"
      },
      "outputs": [],
      "source": [
        "import pandas as pd\n",
        "import numpy as np\n",
        "import matplotlib.pyplot as plt\n",
        "import sklearn.model_selection as ms\n",
        "from sklearn.model_selection import cross_val_score, train_test_split\n",
        "from sklearn.ensemble import RandomForestRegressor\n",
        "from sklearn.metrics import r2_score, mean_squared_error\n",
        "from sklearn import feature_selection as fs\n",
        "import numpy.random as nr"
      ]
    },
    {
      "cell_type": "code",
      "execution_count": 3,
      "metadata": {
        "id": "yRzmn2S3snN9"
      },
      "outputs": [
        {
          "data": {
            "application/vnd.microsoft.datawrangler.viewer.v0+json": {
              "columns": [
                {
                  "name": "index",
                  "rawType": "int64",
                  "type": "integer"
                },
                {
                  "name": "country",
                  "rawType": "object",
                  "type": "string"
                },
                {
                  "name": "year",
                  "rawType": "int64",
                  "type": "integer"
                },
                {
                  "name": "cereal_yield",
                  "rawType": "float64",
                  "type": "float"
                },
                {
                  "name": "fdi_perc_gdp",
                  "rawType": "float64",
                  "type": "float"
                },
                {
                  "name": "en_per_gdp",
                  "rawType": "float64",
                  "type": "float"
                },
                {
                  "name": "en_per_cap",
                  "rawType": "float64",
                  "type": "float"
                },
                {
                  "name": "co2_ttl",
                  "rawType": "float64",
                  "type": "float"
                },
                {
                  "name": "co2_per_cap",
                  "rawType": "float64",
                  "type": "float"
                },
                {
                  "name": "co2_per_gdp",
                  "rawType": "float64",
                  "type": "float"
                },
                {
                  "name": "pop_urb_aggl_perc",
                  "rawType": "float64",
                  "type": "float"
                },
                {
                  "name": "prot_area_perc",
                  "rawType": "float64",
                  "type": "float"
                },
                {
                  "name": "gdp",
                  "rawType": "float64",
                  "type": "float"
                },
                {
                  "name": "gni_per_cap",
                  "rawType": "float64",
                  "type": "float"
                },
                {
                  "name": "under_5_mort_rate",
                  "rawType": "float64",
                  "type": "float"
                },
                {
                  "name": "pop_growth_perc",
                  "rawType": "float64",
                  "type": "float"
                },
                {
                  "name": "pop",
                  "rawType": "float64",
                  "type": "float"
                },
                {
                  "name": "urb_pop_growth_perc",
                  "rawType": "float64",
                  "type": "float"
                },
                {
                  "name": "urb_pop",
                  "rawType": "float64",
                  "type": "float"
                }
              ],
              "ref": "d5ec988e-97e5-412f-9245-aea219788627",
              "rows": [
                [
                  "0",
                  "AGO",
                  "1991",
                  "417.4",
                  "5.44951457868676",
                  "179.271884079676",
                  "565.451027196188",
                  "4367.397",
                  "0.409948922961107",
                  "129.971142081192",
                  "15.2907279897761",
                  "12.3998220487",
                  "12193746624.6789",
                  "820.0",
                  "239.1",
                  "3.03486600826632",
                  "10653515.0",
                  "6.68703162667795",
                  "4099472.572"
                ],
                [
                  "1",
                  "AGO",
                  "1992",
                  "397.0",
                  "4.98245984723078",
                  "193.632182661972",
                  "550.548264050147",
                  "4418.735",
                  "0.401596941172835",
                  "141.24482329234002",
                  "15.6606297788494",
                  "12.399822686",
                  "5779394291.7582",
                  "470.0",
                  "235.3",
                  "3.22698986166594",
                  "11002910.0",
                  "6.75045876038023",
                  "4385759.926"
                ],
                [
                  "2",
                  "AGO",
                  "1993",
                  "267.8",
                  "5.71552892996989",
                  "266.31837906149",
                  "551.688878141007",
                  "5801.194",
                  "0.510140831446347",
                  "246.261769462655",
                  "16.0257392221954",
                  "12.3998233313",
                  "5285600050.3455",
                  "310.0",
                  "231.1",
                  "3.29724264602598",
                  "11371750.0",
                  "6.70077708243702",
                  "4689709.7"
                ],
                [
                  "3",
                  "AGO",
                  "1994",
                  "298.4",
                  "4.1950181977579",
                  "260.830190038975",
                  "541.553066688467",
                  "3890.687",
                  "0.331320808382214",
                  "159.575256295082",
                  "16.0659407849469",
                  "12.3998239766",
                  "4059577145.36303",
                  "190.0",
                  "226.3",
                  "3.21217023653504",
                  "11742960.0",
                  "6.50366698870625",
                  "5004849.552"
                ],
                [
                  "4",
                  "AGO",
                  "1995",
                  "402.2",
                  "9.37441690459021",
                  "237.623933920932",
                  "528.386164349669",
                  "11012.001",
                  "0.909698924544645",
                  "409.10654312834697",
                  "16.1344242780215",
                  "12.3998246299",
                  "5039534776.4902",
                  "320.0",
                  "221.5",
                  "3.03733523614654",
                  "12105105.0",
                  "6.22393596092553",
                  "5326246.2"
                ]
              ],
              "shape": {
                "columns": 18,
                "rows": 5
              }
            },
            "text/html": [
              "<div>\n",
              "<style scoped>\n",
              "    .dataframe tbody tr th:only-of-type {\n",
              "        vertical-align: middle;\n",
              "    }\n",
              "\n",
              "    .dataframe tbody tr th {\n",
              "        vertical-align: top;\n",
              "    }\n",
              "\n",
              "    .dataframe thead th {\n",
              "        text-align: right;\n",
              "    }\n",
              "</style>\n",
              "<table border=\"1\" class=\"dataframe\">\n",
              "  <thead>\n",
              "    <tr style=\"text-align: right;\">\n",
              "      <th></th>\n",
              "      <th>country</th>\n",
              "      <th>year</th>\n",
              "      <th>cereal_yield</th>\n",
              "      <th>fdi_perc_gdp</th>\n",
              "      <th>en_per_gdp</th>\n",
              "      <th>en_per_cap</th>\n",
              "      <th>co2_ttl</th>\n",
              "      <th>co2_per_cap</th>\n",
              "      <th>co2_per_gdp</th>\n",
              "      <th>pop_urb_aggl_perc</th>\n",
              "      <th>prot_area_perc</th>\n",
              "      <th>gdp</th>\n",
              "      <th>gni_per_cap</th>\n",
              "      <th>under_5_mort_rate</th>\n",
              "      <th>pop_growth_perc</th>\n",
              "      <th>pop</th>\n",
              "      <th>urb_pop_growth_perc</th>\n",
              "      <th>urb_pop</th>\n",
              "    </tr>\n",
              "  </thead>\n",
              "  <tbody>\n",
              "    <tr>\n",
              "      <th>0</th>\n",
              "      <td>AGO</td>\n",
              "      <td>1991</td>\n",
              "      <td>417.4</td>\n",
              "      <td>5.449515</td>\n",
              "      <td>179.271884</td>\n",
              "      <td>565.451027</td>\n",
              "      <td>4367.397</td>\n",
              "      <td>0.409949</td>\n",
              "      <td>129.971142</td>\n",
              "      <td>15.290728</td>\n",
              "      <td>12.399822</td>\n",
              "      <td>1.219375e+10</td>\n",
              "      <td>820.0</td>\n",
              "      <td>239.1</td>\n",
              "      <td>3.034866</td>\n",
              "      <td>10653515.0</td>\n",
              "      <td>6.687032</td>\n",
              "      <td>4099472.572</td>\n",
              "    </tr>\n",
              "    <tr>\n",
              "      <th>1</th>\n",
              "      <td>AGO</td>\n",
              "      <td>1992</td>\n",
              "      <td>397.0</td>\n",
              "      <td>4.982460</td>\n",
              "      <td>193.632183</td>\n",
              "      <td>550.548264</td>\n",
              "      <td>4418.735</td>\n",
              "      <td>0.401597</td>\n",
              "      <td>141.244823</td>\n",
              "      <td>15.660630</td>\n",
              "      <td>12.399823</td>\n",
              "      <td>5.779394e+09</td>\n",
              "      <td>470.0</td>\n",
              "      <td>235.3</td>\n",
              "      <td>3.226990</td>\n",
              "      <td>11002910.0</td>\n",
              "      <td>6.750459</td>\n",
              "      <td>4385759.926</td>\n",
              "    </tr>\n",
              "    <tr>\n",
              "      <th>2</th>\n",
              "      <td>AGO</td>\n",
              "      <td>1993</td>\n",
              "      <td>267.8</td>\n",
              "      <td>5.715529</td>\n",
              "      <td>266.318379</td>\n",
              "      <td>551.688878</td>\n",
              "      <td>5801.194</td>\n",
              "      <td>0.510141</td>\n",
              "      <td>246.261769</td>\n",
              "      <td>16.025739</td>\n",
              "      <td>12.399823</td>\n",
              "      <td>5.285600e+09</td>\n",
              "      <td>310.0</td>\n",
              "      <td>231.1</td>\n",
              "      <td>3.297243</td>\n",
              "      <td>11371750.0</td>\n",
              "      <td>6.700777</td>\n",
              "      <td>4689709.700</td>\n",
              "    </tr>\n",
              "    <tr>\n",
              "      <th>3</th>\n",
              "      <td>AGO</td>\n",
              "      <td>1994</td>\n",
              "      <td>298.4</td>\n",
              "      <td>4.195018</td>\n",
              "      <td>260.830190</td>\n",
              "      <td>541.553067</td>\n",
              "      <td>3890.687</td>\n",
              "      <td>0.331321</td>\n",
              "      <td>159.575256</td>\n",
              "      <td>16.065941</td>\n",
              "      <td>12.399824</td>\n",
              "      <td>4.059577e+09</td>\n",
              "      <td>190.0</td>\n",
              "      <td>226.3</td>\n",
              "      <td>3.212170</td>\n",
              "      <td>11742960.0</td>\n",
              "      <td>6.503667</td>\n",
              "      <td>5004849.552</td>\n",
              "    </tr>\n",
              "    <tr>\n",
              "      <th>4</th>\n",
              "      <td>AGO</td>\n",
              "      <td>1995</td>\n",
              "      <td>402.2</td>\n",
              "      <td>9.374417</td>\n",
              "      <td>237.623934</td>\n",
              "      <td>528.386164</td>\n",
              "      <td>11012.001</td>\n",
              "      <td>0.909699</td>\n",
              "      <td>409.106543</td>\n",
              "      <td>16.134424</td>\n",
              "      <td>12.399825</td>\n",
              "      <td>5.039535e+09</td>\n",
              "      <td>320.0</td>\n",
              "      <td>221.5</td>\n",
              "      <td>3.037335</td>\n",
              "      <td>12105105.0</td>\n",
              "      <td>6.223936</td>\n",
              "      <td>5326246.200</td>\n",
              "    </tr>\n",
              "  </tbody>\n",
              "</table>\n",
              "</div>"
            ],
            "text/plain": [
              "  country  year  cereal_yield  fdi_perc_gdp  en_per_gdp  en_per_cap  \\\n",
              "0     AGO  1991         417.4      5.449515  179.271884  565.451027   \n",
              "1     AGO  1992         397.0      4.982460  193.632183  550.548264   \n",
              "2     AGO  1993         267.8      5.715529  266.318379  551.688878   \n",
              "3     AGO  1994         298.4      4.195018  260.830190  541.553067   \n",
              "4     AGO  1995         402.2      9.374417  237.623934  528.386164   \n",
              "\n",
              "     co2_ttl  co2_per_cap  co2_per_gdp  pop_urb_aggl_perc  prot_area_perc  \\\n",
              "0   4367.397     0.409949   129.971142          15.290728       12.399822   \n",
              "1   4418.735     0.401597   141.244823          15.660630       12.399823   \n",
              "2   5801.194     0.510141   246.261769          16.025739       12.399823   \n",
              "3   3890.687     0.331321   159.575256          16.065941       12.399824   \n",
              "4  11012.001     0.909699   409.106543          16.134424       12.399825   \n",
              "\n",
              "            gdp  gni_per_cap  under_5_mort_rate  pop_growth_perc         pop  \\\n",
              "0  1.219375e+10        820.0              239.1         3.034866  10653515.0   \n",
              "1  5.779394e+09        470.0              235.3         3.226990  11002910.0   \n",
              "2  5.285600e+09        310.0              231.1         3.297243  11371750.0   \n",
              "3  4.059577e+09        190.0              226.3         3.212170  11742960.0   \n",
              "4  5.039535e+09        320.0              221.5         3.037335  12105105.0   \n",
              "\n",
              "   urb_pop_growth_perc      urb_pop  \n",
              "0             6.687032  4099472.572  \n",
              "1             6.750459  4385759.926  \n",
              "2             6.700777  4689709.700  \n",
              "3             6.503667  5004849.552  \n",
              "4             6.223936  5326246.200  "
            ]
          },
          "execution_count": 3,
          "metadata": {},
          "output_type": "execute_result"
        }
      ],
      "source": [
        "# import the cleaned dataset from a csv file\n",
        "data = pd.read_csv(r'data_cleaned.csv')\n",
        "data.head()"
      ]
    },
    {
      "cell_type": "markdown",
      "metadata": {
        "id": "5hSQsiDIsuGt"
      },
      "source": [
        "### Used feature/column abbreviations\n",
        "\n",
        "The features/columns were given in Stage 1 clearer abbreviations in order to ensure easies understanding, representation and coding. These are listed in the following table together with the corresponding units:\n",
        "\n",
        "<table>\n",
        "    <tr>\n",
        "        <td> <b> Variable name </b> </td>\n",
        "        <td> <b> Description </b> </td>\n",
        "        <td> <b> Unit </b> </td>\n",
        "    </tr>\n",
        "    <tr>\n",
        "        <td> cereal_yield </td>\n",
        "        <td> Cereal yield </td>\n",
        "        <td> kg per hectare </td>\n",
        "    </tr>\n",
        "    <tr>\n",
        "        <td> fdi_perc_gdp </td>\n",
        "        <td> Foreign direct investment, net inflows </td>\n",
        "        <td> % of GDP </td>\n",
        "    </tr>\n",
        "    <tr>\n",
        "        <td> en_per_gdp </td>\n",
        "        <td> Energy use per units of GDP </td>\n",
        "        <td> kg oil eq./\\$1,000 of 2005 PPP \\$ </td>\n",
        "    </tr>\n",
        "    <tr>\n",
        "        <td> en_per_cap </td>\n",
        "        <td> Energy use per capita </td>\n",
        "        <td> kilograms of oil equivalent </td>\n",
        "    </tr>\n",
        "    <tr>\n",
        "        <td> co2_ttl </td>\n",
        "        <td> CO2 emissions, total </td>\n",
        "        <td> KtCO2 </td>\n",
        "    </tr>\n",
        "    <tr>\n",
        "        <td> co2_per_cap </td>\n",
        "        <td> CO2 emissions per capita </td>\n",
        "        <td> metric tons </td>\n",
        "    </tr>\n",
        "    <tr>\n",
        "        <td> co2_per_gdp </td>\n",
        "        <td> CO2 emissions per units of GDP </td>\n",
        "        <td> kg/\\$1,000 of 2005 PPP \\$ </td>\n",
        "    </tr>\n",
        "    <tr>\n",
        "        <td> pop_urb_aggl_perc </td>\n",
        "        <td> Population in urban agglomerations >1million </td>\n",
        "        <td> % </td>\n",
        "    </tr>\n",
        "    <tr>\n",
        "        <td> prot_area_perc </td>\n",
        "        <td> Nationally terrestrial protected areas </td>\n",
        "        <td> % of total land area </td>\n",
        "    </tr>\n",
        "    <tr>\n",
        "        <td> gdp </td>\n",
        "        <td> Gross Domestic Product (GDP) </td>\n",
        "        <td> \\$ </td>\n",
        "    </tr>\n",
        "    <tr>\n",
        "        <td> gni_per_cap </td>\n",
        "        <td> GNI per capita </td>\n",
        "        <td> Atlas \\$ </td>\n",
        "    </tr>\n",
        "    <tr>\n",
        "        <td> under_5_mort_rate </td>\n",
        "        <td> Under-five mortality rate </td>\n",
        "        <td> per 1,000 </td>\n",
        "    </tr>\n",
        "    <tr>\n",
        "        <td> pop_growth_perc </td>\n",
        "        <td> Population growth </td>\n",
        "        <td> annual % </td>\n",
        "    </tr>\n",
        "    <tr>\n",
        "        <td> pop </td>\n",
        "        <td> Population </td>\n",
        "        <td> 1 </td>\n",
        "    </tr>\n",
        "    <tr>\n",
        "        <td> urb_pop_growth_perc </td>\n",
        "        <td> Urban population growth </td>\n",
        "        <td> annual % </td>\n",
        "    </tr>\n",
        "    <tr>\n",
        "        <td> urb_pop </td>\n",
        "        <td> Urban population </td>\n",
        "        <td> 1 </td>\n",
        "    </tr>\n",
        "    \n",
        "</table>"
      ]
    },
    {
      "cell_type": "markdown",
      "metadata": {
        "id": "Xydbs9TKH7F2"
      },
      "source": [
        "### Dealing with randomness in the algorithms\n",
        "\n",
        "To make results consistent across runs, it's essential to control randomness in steps like dataset splitting, cross-validation, and Random Forest training. This is achieved by setting the `random_state` parameter and using `numpy.random.seed()` to fix the random seed.\n"
      ]
    },
    {
      "cell_type": "code",
      "execution_count": 4,
      "metadata": {
        "id": "-DCd5_rZH9Id"
      },
      "outputs": [],
      "source": [
        "# define a random state number for all random state - ensures reproducibility of all results\n",
        "random_state_num = 0"
      ]
    },
    {
      "cell_type": "markdown",
      "metadata": {
        "id": "2E6-9u59H_Mh"
      },
      "source": [
        "***\n",
        "\n",
        "### Overview of the available data\n",
        "A global overview of the imported data yields the following insights:"
      ]
    },
    {
      "cell_type": "code",
      "execution_count": 5,
      "metadata": {
        "colab": {
          "base_uri": "https://localhost:8080/"
        },
        "id": "EBPrT6HtIBBu",
        "outputId": "ec3cf6a8-7a20-4b9d-a0fc-2de371badf0a"
      },
      "outputs": [
        {
          "name": "stdout",
          "output_type": "stream",
          "text": [
            "Shape of the dataset:\n"
          ]
        },
        {
          "data": {
            "text/plain": [
              "(1700, 18)"
            ]
          },
          "execution_count": 5,
          "metadata": {},
          "output_type": "execute_result"
        }
      ],
      "source": [
        "print(\"Shape of the dataset:\")\n",
        "data.shape"
      ]
    },
    {
      "cell_type": "code",
      "execution_count": 6,
      "metadata": {
        "colab": {
          "base_uri": "https://localhost:8080/",
          "height": 697
        },
        "id": "78v_sGueIDDJ",
        "outputId": "1f374de1-c259-4c7f-8c98-51ea137298f9"
      },
      "outputs": [
        {
          "name": "stdout",
          "output_type": "stream",
          "text": [
            "available columns and their data types:\n"
          ]
        },
        {
          "data": {
            "application/vnd.microsoft.datawrangler.viewer.v0+json": {
              "columns": [
                {
                  "name": "index",
                  "rawType": "object",
                  "type": "string"
                },
                {
                  "name": "0",
                  "rawType": "object",
                  "type": "unknown"
                }
              ],
              "ref": "940f9c34-e285-44cb-b89f-3adc29ec6a08",
              "rows": [
                [
                  "country",
                  "object"
                ],
                [
                  "year",
                  "int64"
                ],
                [
                  "cereal_yield",
                  "float64"
                ],
                [
                  "fdi_perc_gdp",
                  "float64"
                ],
                [
                  "en_per_gdp",
                  "float64"
                ],
                [
                  "en_per_cap",
                  "float64"
                ],
                [
                  "co2_ttl",
                  "float64"
                ],
                [
                  "co2_per_cap",
                  "float64"
                ],
                [
                  "co2_per_gdp",
                  "float64"
                ],
                [
                  "pop_urb_aggl_perc",
                  "float64"
                ],
                [
                  "prot_area_perc",
                  "float64"
                ],
                [
                  "gdp",
                  "float64"
                ],
                [
                  "gni_per_cap",
                  "float64"
                ],
                [
                  "under_5_mort_rate",
                  "float64"
                ],
                [
                  "pop_growth_perc",
                  "float64"
                ],
                [
                  "pop",
                  "float64"
                ],
                [
                  "urb_pop_growth_perc",
                  "float64"
                ],
                [
                  "urb_pop",
                  "float64"
                ]
              ],
              "shape": {
                "columns": 1,
                "rows": 18
              }
            },
            "text/plain": [
              "country                 object\n",
              "year                     int64\n",
              "cereal_yield           float64\n",
              "fdi_perc_gdp           float64\n",
              "en_per_gdp             float64\n",
              "en_per_cap             float64\n",
              "co2_ttl                float64\n",
              "co2_per_cap            float64\n",
              "co2_per_gdp            float64\n",
              "pop_urb_aggl_perc      float64\n",
              "prot_area_perc         float64\n",
              "gdp                    float64\n",
              "gni_per_cap            float64\n",
              "under_5_mort_rate      float64\n",
              "pop_growth_perc        float64\n",
              "pop                    float64\n",
              "urb_pop_growth_perc    float64\n",
              "urb_pop                float64\n",
              "dtype: object"
            ]
          },
          "execution_count": 6,
          "metadata": {},
          "output_type": "execute_result"
        }
      ],
      "source": [
        "print(\"available columns and their data types:\")\n",
        "data.dtypes"
      ]
    },
    {
      "cell_type": "markdown",
      "metadata": {
        "id": "d4wNTk5PIOx_"
      },
      "source": [
        "### Dealing with outliers\n",
        "\n",
        "A consistent group of outliers—mostly separate from the main data cluster—was identified, primarily belonging to the United Arab Emirates (ARE). To improve model clarity and interpretability, these outliers will be excluded from further analysis.\n"
      ]
    },
    {
      "cell_type": "code",
      "execution_count": 7,
      "metadata": {
        "colab": {
          "base_uri": "https://localhost:8080/"
        },
        "id": "7Xqwbx_SIRaP",
        "outputId": "35e8cedd-9d5a-4c9d-bf92-ba1ddb1d3b10"
      },
      "outputs": [
        {
          "name": "stdout",
          "output_type": "stream",
          "text": [
            "Shape of the dataset after removing the ARE outliers:\n"
          ]
        },
        {
          "data": {
            "text/plain": [
              "(1686, 18)"
            ]
          },
          "execution_count": 7,
          "metadata": {},
          "output_type": "execute_result"
        }
      ],
      "source": [
        "# remove the ARE outliers\n",
        "data = data[data['country']!='ARE']\n",
        "\n",
        "# print shape after removing the outliers\n",
        "print(\"Shape of the dataset after removing the ARE outliers:\")\n",
        "data.shape"
      ]
    },
    {
      "cell_type": "markdown",
      "metadata": {
        "id": "EEi7SUlFIT8X"
      },
      "source": [
        "***\n",
        "### The hypothesis to be investigated\n",
        "\n",
        "CO₂ emissions are influenced by country-specific features such as energy use, population metrics, GDP, GNI, cereal yield, and others. The hypothesis is that CO₂ emissions can be predicted based on these variables.\n",
        "\n",
        "\n",
        "***\n",
        "\n",
        "### Selection of dependent and independent variables\n",
        "\n",
        "During the previous stage of the project the features which have the biggest potential to build as many dependencies as possible. The features were chosen as follows:\n",
        "\n",
        "* Dependent variable (DV) to be predicted:\n",
        "    - co2_percap*: CO2 emissions per capita (metric tons)\n",
        "* Independent variables:\n",
        "    - 'cereal_yield': Cereal yield (kg per hectare)\n",
        "    - 'fdi_perc_gdp': Foreign direct investment, net inflows (% of GDP)\n",
        "    - 'gni_per_cap': GNI per capita (Atlas \\\\$)\n",
        "    - 'en_per_cap': Energy use per capita (kilograms of oil equivalent)\n",
        "    - 'pop_urb_aggl_perc': Population in urban agglomerations >1million (\\%)\n",
        "    - 'prot_area_perc': Nationally terrestrial protected areas (\\% of total land area)\n",
        "    - 'gdp': GDP (\\\\$)\n",
        "    - 'pop_growth_perc': Population growth (annual \\%)\n",
        "    - 'urb_pop_growth_perc': Urban population growth (annual \\%)\n",
        "\n",
        "\n",
        "The selected variables are categorized into independent variables (features) and the dependent variable (label), which represents CO₂ emissions. These are then converted into NumPy arrays for input into the Random Forest model. The dependent variable is referenced in the code as `\"labels\"` or `\"label\"`.\n"
      ]
    },
    {
      "cell_type": "code",
      "execution_count": 8,
      "metadata": {
        "id": "ZZSHLEn-IYO3"
      },
      "outputs": [],
      "source": [
        "# choose features and label columns\n",
        "feature_cols = ['cereal_yield','fdi_perc_gdp','gni_per_cap', 'en_per_cap',\n",
        "                'pop_urb_aggl_perc', 'prot_area_perc', 'pop_growth_perc', 'urb_pop_growth_perc']\n",
        "label_col = ['co2_per_cap']\n",
        "\n",
        "# convert into nympy arrays (required for scikit-learn models)\n",
        "features = np.array(data[feature_cols])\n",
        "labels =  np.array(data[label_col])"
      ]
    },
    {
      "cell_type": "code",
      "execution_count": 9,
      "metadata": {},
      "outputs": [
        {
          "data": {
            "text/plain": [
              "array([[ 417.4       ,    5.44951458,  820.        , ...,   12.39982205,\n",
              "           3.03486601,    6.68703163],\n",
              "       [ 397.        ,    4.98245985,  470.        , ...,   12.39982269,\n",
              "           3.22698986,    6.75045876],\n",
              "       [ 267.8       ,    5.71552893,  310.        , ...,   12.39982333,\n",
              "           3.29724265,    6.70077708],\n",
              "       ...,\n",
              "       [1816.1       ,    5.7538601 ,  620.        , ...,   35.98301766,\n",
              "           2.47931167,    2.8785138 ],\n",
              "       [1907.9       ,   11.47085026,  750.        , ...,   35.98301766,\n",
              "           2.56491884,    2.96253368],\n",
              "       [2144.        ,    6.41099075,  970.        , ...,   35.98301766,\n",
              "           2.65395608,    3.0499962 ]], shape=(1686, 8))"
            ]
          },
          "execution_count": 9,
          "metadata": {},
          "output_type": "execute_result"
        }
      ],
      "source": [
        "features"
      ]
    },
    {
      "cell_type": "markdown",
      "metadata": {
        "id": "POXSBBQoIbh3"
      },
      "source": [
        "***\n",
        "\n",
        "### Train-Test Split and Cross-Validation\n",
        "\n",
        "To validate the model on unseen data, the dataset is split into training and testing sets with an 80:20 ratio. To improve generalization, cross-validation is applied on the training set for feature selection, hyperparameter tuning, and performance evaluation.\n",
        "\n",
        "The dataset split is performed in the following code snippet:\n"
      ]
    },
    {
      "cell_type": "code",
      "execution_count": 10,
      "metadata": {
        "id": "sEhtu8kWIdWY"
      },
      "outputs": [],
      "source": [
        "# split into training and testing subsets\n",
        "nr.seed(1)\n",
        "features_train, features_test, labels_train, labels_test = train_test_split(features,\n",
        "                                                                            labels,\n",
        "                                                                            test_size=0.2,\n",
        "                                                                            random_state=random_state_num)"
      ]
    },
    {
      "cell_type": "markdown",
      "metadata": {
        "id": "mJ7kjiUAIgGX"
      },
      "source": [
        "### Scaling of Features\n",
        "\n",
        "Algorithms like Linear and Logistic Regression require feature scaling to avoid bias from variables with larger ranges. However, since Random Forest relies on decision trees and not regression coefficients, scaling is not necessary in this case.\n",
        "\n",
        "---\n",
        "\n",
        "### Feature Selection with Cross-Validation\n",
        "\n",
        "Using too many or redundant features can lead to overfitting, reduced model performance, and unnecessary complexity. To address this:\n",
        "\n",
        "- Irrelevant or weakly predictive features are removed.\n",
        "- Multicollinearity is reduced by eliminating highly correlated variables.\n",
        "- Model generalization is improved by selecting only the most relevant features.\n",
        "\n",
        "Feature selection is performed using `RFECV` from `sklearn.feature_selection`, which applies Recursive Feature Elimination with Cross-Validation (based on R² score) to rank and retain top features. The resulting reduced sets are used for training and testing (`features_train_reduced` and `features_test_reduced`).\n"
      ]
    },
    {
      "cell_type": "code",
      "execution_count": 11,
      "metadata": {
        "colab": {
          "base_uri": "https://localhost:8080/"
        },
        "id": "c2JePr-MIfm_",
        "outputId": "4af9bc75-4f90-4324-8cd1-2d0b708b81be"
      },
      "outputs": [
        {
          "name": "stdout",
          "output_type": "stream",
          "text": [
            "Feature ranking after RFECV:\n",
            "[1 2 1 1 1 1 1 1]\n",
            "Chosen important features:\n",
            "['cereal_yield', 'gni_per_cap', 'en_per_cap', 'pop_urb_aggl_perc', 'prot_area_perc', 'pop_growth_perc', 'urb_pop_growth_perc']\n"
          ]
        }
      ],
      "source": [
        "# Set folds for cross validation for the feature selection\n",
        "nr.seed(1)\n",
        "feature_folds = ms.KFold(n_splits=4, shuffle = True, random_state=random_state_num)\n",
        "\n",
        "# Define the model\n",
        "rf_selector = RandomForestRegressor(random_state=random_state_num)\n",
        "\n",
        "# Define an objects for a model for recursive feature elimination with CV\n",
        "nr.seed(1)\n",
        "selector = fs.RFECV(estimator = rf_selector, cv = feature_folds, scoring = 'r2', n_jobs=-1)\n",
        "\n",
        "selector = selector.fit(features_train, np.ravel(labels_train))\n",
        "\n",
        "selector.support_\n",
        "print(\"Feature ranking after RFECV:\")\n",
        "print(selector.ranking_)\n",
        "\n",
        "# print the important features\n",
        "ranks_transform = list(np.transpose(selector.ranking_))\n",
        "chosen_features = [i for i,j in zip(feature_cols,ranks_transform) if j==1]\n",
        "print(\"Chosen important features:\")\n",
        "print(chosen_features)"
      ]
    },
    {
      "cell_type": "markdown",
      "metadata": {
        "id": "EndvyE_wIj5I"
      },
      "source": [
        "According to the feature rankings, the important parameters for this data set (with ranking 1) are 'cereal_yield', 'en_per_cap', 'pop_urb_aggl_perc', 'prot_area_perc', 'pop_growth_perc'.\n",
        "\n",
        "Consequently, only these will be kept for the further analysis for both the training and testing dataset (variables *features_train_reduced* and *features_test_reduced*):"
      ]
    },
    {
      "cell_type": "code",
      "execution_count": 12,
      "metadata": {
        "colab": {
          "base_uri": "https://localhost:8080/"
        },
        "id": "cZcnkTTREpCU",
        "outputId": "c3ef9a83-3b99-46ee-b669-00a63cdf24e3"
      },
      "outputs": [
        {
          "name": "stdout",
          "output_type": "stream",
          "text": [
            "Training subset shape before the recursive feature elimination:  (1348, 8)\n",
            "Training subset array shape after the recursive feature elimination:  (1348, 7)\n",
            "Test subset array shape after the recursive feature elimination:  (338, 7)\n"
          ]
        }
      ],
      "source": [
        "# Reduce features\n",
        "features_train_reduced = selector.transform(features_train)\n",
        "features_test_reduced = selector.transform(features_test)\n",
        "\n",
        "print(\"Training subset shape before the recursive feature elimination: \",features_train.shape)\n",
        "print(\"Training subset array shape after the recursive feature elimination: \", features_train_reduced.shape)\n",
        "print(\"Test subset array shape after the recursive feature elimination: \",features_test_reduced.shape)"
      ]
    },
    {
      "cell_type": "markdown",
      "metadata": {
        "id": "m1mNk_ZXIn0X"
      },
      "source": [
        "***\n",
        "\n",
        "### Hyperparameter tuning\n",
        "\n",
        "Random Forest is an algorithm with multiple hyperparameters which can have a range of values. In order to find the hyperparameters which would be most suitable for the current data, it is necessary to conduct hyperparameter tuning. The parameters which will be tuned in this case are:\n",
        "\n",
        "* n_estimators - number of decision trees in the random forest\n",
        "* max_features - number of features to consider at every split\n",
        "* max_depth - maximum number of levels in a tree\n",
        "* min_samples_split - minimum number of samples required to split a node\n",
        "* min_samples_leaf - minimum number of samples required at each leaf node\n",
        "\n",
        "The tuning is executed by applying a cross-validated evaluation of the model for different combinations of preliminary defined ranges for the parameters. The output is the model with the hyperparameters which exhibits the best R2 score compared to other parameter combinations.\n",
        "\n",
        "Define the hyperparameter ranges to be investigated as a parameter grid (dictionary *param_grid*):"
      ]
    },
    {
      "cell_type": "code",
      "execution_count": 13,
      "metadata": {
        "id": "odk-iNsbIsAH"
      },
      "outputs": [],
      "source": [
        "# Define value ranges for each hyperparameter\n",
        "n_estimators = [int(x) for x in np.linspace(start = 200, stop = 2000, num = 10)]\n",
        "\n",
        "# Keep the rest unchanged\n",
        "max_depth = [int(x) for x in np.linspace(10, 110, num=11)]\n",
        "max_depth.append(None)\n",
        "\n",
        "# Create the hyperparameter grid\n",
        "param_grid = {\n",
        "    'n_estimators': n_estimators,\n",
        "    'max_features': ['sqrt', 'log2', None] ,\n",
        "    'max_depth': max_depth,\n",
        "    'min_samples_split': [2, 5, 10],\n",
        "    'min_samples_leaf': [1, 2, 4]\n",
        "}"
      ]
    },
    {
      "cell_type": "markdown",
      "metadata": {
        "id": "4VzhKSI2IuKY"
      },
      "source": [
        "Define the RandomizedSearchCV object, which will evaluate the R2 scores of models with randomly picked combinations from the defined hyperparameter grid:"
      ]
    },
    {
      "cell_type": "code",
      "execution_count": 14,
      "metadata": {
        "id": "WvD45crPIwIY"
      },
      "outputs": [],
      "source": [
        "# define the cross-validation folds for the hyperparameter tuning\n",
        "nr.seed(1)\n",
        "inside_folds = ms.KFold(n_splits=5, shuffle = True, random_state=random_state_num)\n",
        "\n",
        "# Define the random forest regressor model object\n",
        "rf_tuner = RandomForestRegressor(random_state=random_state_num)\n",
        "\n",
        "# Perform a randomized search on the grid\n",
        "nr.seed(1)\n",
        "rf_model = ms.RandomizedSearchCV(estimator=rf_tuner, param_distributions = param_grid,\n",
        "                                 random_state=random_state_num, refit=True,\n",
        "                                 cv=inside_folds, scoring = 'r2', return_train_score=True, n_jobs=-1)"
      ]
    },
    {
      "cell_type": "markdown",
      "metadata": {
        "id": "RGqJ99NEIyi4"
      },
      "source": [
        "Once fitted to the training data, the `RandomizedSearchCV` will return the best Random Forest model in the best_estimator_ attribute—this model uses the hyperparameter combination that gave the highest R² score during testing.\n",
        "\n",
        "It's important to note that after finding the best combination, the model is automatically retrained on the full training set (thanks to refit=True in the `RandomizedSearchCV` setup).\n",
        "\n",
        "Finally, the best hyperparameters are printed."
      ]
    },
    {
      "cell_type": "code",
      "execution_count": 15,
      "metadata": {
        "colab": {
          "base_uri": "https://localhost:8080/"
        },
        "id": "rPimavu9I0PQ",
        "outputId": "1cad42fe-7577-43dc-ab46-6b1fc91bc94e"
      },
      "outputs": [
        {
          "name": "stdout",
          "output_type": "stream",
          "text": [
            "Best Parameters: {'n_estimators': 800, 'min_samples_split': 5, 'min_samples_leaf': 2, 'max_features': None, 'max_depth': 30}\n"
          ]
        }
      ],
      "source": [
        "# Fit the grid search model object with cross-validation on the data\n",
        "rf_model.fit(features_train_reduced, np.ravel(labels_train))\n",
        "\n",
        "# Corrected variable name\n",
        "print(\"Best Parameters:\", rf_model.best_params_)"
      ]
    },
    {
      "cell_type": "markdown",
      "metadata": {
        "id": "PabO-TrCI2RA"
      },
      "source": [
        "Assign the best model to the model variable *rf_best_model* to be used further:"
      ]
    },
    {
      "cell_type": "code",
      "execution_count": 16,
      "metadata": {
        "id": "-SHBvIdXI3_R"
      },
      "outputs": [],
      "source": [
        "# pick the model with the best hyperparameter combination for further analysis\n",
        "rf_best_model = rf_model.best_estimator_"
      ]
    },
    {
      "cell_type": "markdown",
      "metadata": {
        "id": "ErGdFDUjI76w"
      },
      "source": [
        "***\n",
        "\n",
        "### Evaluation of the model with the best hyperparameters on the training subset with cross-validation\n",
        "\n",
        "The random forest model object *rf_best_model* with the most important features and the most suitable hyperparameters will be now evaluated on the training subset with cross-validation first:"
      ]
    },
    {
      "cell_type": "code",
      "execution_count": 17,
      "metadata": {
        "colab": {
          "base_uri": "https://localhost:8080/"
        },
        "id": "EjiM_--xI_Zg",
        "outputId": "c71d497b-2505-49b8-f8f0-e00167deaeb2"
      },
      "outputs": [
        {
          "name": "stdout",
          "output_type": "stream",
          "text": [
            "Mean R2 score of all CV folds = 0.986\n",
            "Standard deviation of the R2 score over all folds = 0.003\n",
            "R2 score for each fold:\n",
            "Fold  1    0.990\n",
            "Fold  2    0.990\n",
            "Fold  3    0.989\n",
            "Fold  4    0.985\n",
            "Fold  5    0.980\n",
            "Fold  6    0.984\n",
            "Fold  7    0.986\n",
            "Fold  8    0.987\n",
            "Fold  9    0.986\n",
            "Fold 10    0.984\n"
          ]
        }
      ],
      "source": [
        "# define the cross-validation folds for the evaluation\n",
        "nr.seed(1)\n",
        "outside_folds = ms.KFold(n_splits=10, shuffle = True, random_state=random_state_num)\n",
        "\n",
        "# Evaluate the model on the training subset with cross-validation\n",
        "nr.seed(1)\n",
        "cv_eval = cross_val_score(rf_best_model, features_train_reduced, labels_train, cv = outside_folds, n_jobs=-1)\n",
        "\n",
        "print('Mean R2 score of all CV folds = %4.3f' % np.mean(cv_eval))\n",
        "print('Standard deviation of the R2 score over all folds = %4.3f' % np.std(cv_eval))\n",
        "print('R2 score for each fold:')\n",
        "\n",
        "# print the R2 score for each fold\n",
        "for i, j in enumerate(cv_eval):\n",
        "    print('Fold %2d    %4.3f' % (i+1, j))"
      ]
    },
    {
      "cell_type": "markdown",
      "metadata": {
        "id": "k3ZoDSXxJBRw"
      },
      "source": [
        "#### Cross-Validation Results\n",
        "\n",
        "The model achieved strong and consistent performance across all folds:\n",
        "\n",
        "- **Mean R² score (10 folds):** 0.986  \n",
        "- **Standard deviation:** 0.004  \n",
        "\n",
        "While a high R² score (0.968) might initially suggest overfitting, it actually reflects the average across all folds, thanks to cross-validation. The narrow R² range and very low standard deviation (0.004) indicate the model performs consistently and generalizes well across different data splits.\n"
      ]
    },
    {
      "cell_type": "markdown",
      "metadata": {
        "id": "qh_aKhM6JDTB"
      },
      "source": [
        "***\n",
        "\n",
        "### Validate the model on the testing subset\n",
        "\n",
        "Finally, the model should be validated on previously unseen data, which is the initially separated test subset. The developed model *rf_best_model* is used to predict the CO2 emissions per capita based on the features of the test subset. The quality of the predictions is evaluated by the metrics R2 score, Mean Squared Error and Root Mean Squared Error:"
      ]
    },
    {
      "cell_type": "code",
      "execution_count": 18,
      "metadata": {
        "colab": {
          "base_uri": "https://localhost:8080/"
        },
        "id": "KOliJkgQJE_Y",
        "outputId": "40c6ff3d-4e68-4703-d8d2-6338e1f7d11f"
      },
      "outputs": [
        {
          "name": "stdout",
          "output_type": "stream",
          "text": [
            "R2 = 0.9858363709498787, Mean Squared Error (MSE) = 0.2724067177964901, Root Mean Squared Error (RMSE) = 0.5219259696513386\n"
          ]
        }
      ],
      "source": [
        "# make predictions from the features of the testing subset\n",
        "predictions = rf_best_model.predict(features_test_reduced)\n",
        "\n",
        "# calculate the metrics basing on the predicted and true values for the test subset\n",
        "r2 = r2_score(y_true=labels_test, y_pred=predictions)\n",
        "mse = mean_squared_error(y_true=labels_test, y_pred=predictions)\n",
        "rmse = np.sqrt(mse)\n",
        "\n",
        "print(f\"R2 = {r2}, Mean Squared Error (MSE) = {mse}, Root Mean Squared Error (RMSE) = {rmse}\")"
      ]
    },
    {
      "cell_type": "markdown",
      "metadata": {
        "id": "Alty7DsnJIOA"
      },
      "source": [
        "### Model Evaluation & Prediction Quality\n",
        "\n",
        "The obtained R² score of **0.986** may seem optimistic at first. However, several steps were taken to reduce overfitting and improve generalization:\n",
        "\n",
        "- Dataset split with **80% used for training**\n",
        "- **Cross-validation** during feature selection, hyperparameter tuning, and model training\n",
        "\n",
        "Note: **MSE and RMSE** values are not directly comparable to the dependent variable (CO₂ per capita), which ranges from **0 to 20 tons**.\n",
        "\n",
        "To further evaluate performance, a **regression plot** is used to visualize predicted vs. actual CO₂ emissions per capita from the test set.\n"
      ]
    },
    {
      "cell_type": "code",
      "execution_count": 21,
      "metadata": {
        "colab": {
          "base_uri": "https://localhost:8080/",
          "height": 760
        },
        "id": "ZNtUhschJG5o",
        "outputId": "6d9cc423-aada-4d05-f476-1b85ba47a632"
      },
      "outputs": [
        {
          "data": {
            "image/png": "[encoded data removed]",
            "text/plain": [
              "<Figure size 1500x1500 with 1 Axes>"
            ]
          },
          "metadata": {},
          "output_type": "display_data"
        }
      ],
      "source": [
        "import seaborn as sns\n",
        "# plot predicted vs true values of the test subset\n",
        "\n",
        "f,ax=plt.subplots(figsize=(15,15))\n",
        "sns.set_theme(font_scale=2)\n",
        "\n",
        "sns.regplot(x=predictions, y=np.transpose(labels_test)[0,:], fit_reg=True)\n",
        "plt.xlabel(\"CO2 emissions per capita [t] - predicted\")\n",
        "plt.ylabel(\"CO2 emissions per capita [t] - true\")\n",
        "plt.title(\"Correlation coefficient R=\"+str(round(np.corrcoef(predictions,np.transpose(labels_test)[0,:])[0,1],2)))\n",
        "plt.show()"
      ]
    },
    {
      "cell_type": "markdown",
      "metadata": {
        "id": "nZfda4-fJNoQ"
      },
      "source": [
        "The model demonstrates excellent predictive performance for CO₂ emissions per capita."
      ]
    },
    {
      "cell_type": "markdown",
      "metadata": {
        "id": "-3QmJtDjJPcI"
      },
      "source": [
        "### Final Model Performance Summary\n",
        "\n",
        "All key steps were taken to ensure the model generalizes well to unseen data. It achieved a high average **R² score of 0.98** across the cross-validated training set and each fold. Test set predictions also align closely with true values, with the same **R² = 0.98** and no major outliers.\n",
        "\n",
        "While confidence intervals were not calculated, the large test set size (**1,181 observations**) reinforces the model’s robustness and reliability.\n",
        "\n",
        "**Conclusion:**  \n",
        "The model can predict a country’s annual CO₂ emissions per capita with **98.2% R² accuracy**, using key features like:\n",
        "- Cereal yield  \n",
        "- Protected land percentage  \n",
        "- Energy use per capita  \n",
        "- Urban population percentage  \n",
        "- Population growth rate\n",
        "\n",
        "\n",
        "***"
      ]
    },
    {
      "cell_type": "code",
      "execution_count": 22,
      "metadata": {
        "colab": {
          "base_uri": "https://localhost:8080/"
        },
        "id": "SNnw_ezcu3fO",
        "outputId": "f47ec13c-c8ed-4724-d4b8-87d90f7d1073"
      },
      "outputs": [
        {
          "name": "stdout",
          "output_type": "stream",
          "text": [
            "Model saved to 'forecasting_co2_emmision.pkl\n"
          ]
        }
      ],
      "source": [
        "import joblib\n",
        "\n",
        "# Save the trained model to file\n",
        "joblib.dump(rf_best_model, 'forecasting_co2_emmision.pkl')\n",
        "print(\"Model saved to 'forecasting_co2_emmision.pkl\")"
      ]
    },
    {
      "cell_type": "code",
      "execution_count": 23,
      "metadata": {
        "colab": {
          "base_uri": "https://localhost:8080/"
        },
        "id": "OIACFo1Ou4Fu",
        "outputId": "a19891cb-cfb1-4381-c7de-c3e6b584b813"
      },
      "outputs": [
        {
          "name": "stdout",
          "output_type": "stream",
          "text": [
            "📂 Model loaded successfully.\n"
          ]
        }
      ],
      "source": [
        "# Load model from file\n",
        "loaded_model = joblib.load('forecasting_co2_emmision.pkl')\n",
        "print(\"📂 Model loaded successfully.\")"
      ]
    },
    {
      "cell_type": "markdown",
      "metadata": {
        "id": "wJ16Zvzs0_0w"
      },
      "source": [
        "### Calculating Compound Annual Growth Rates (CAGR) for Key Features\n",
        "\n",
        "To assess long-term trends in country-level development indicators, we compute the **Compound Annual Growth Rate (CAGR)** for each of the selected features:\n",
        "\n",
        "- `cereal_yield`\n",
        "- `gni_per_cap`\n",
        "- `en_per_cap`\n",
        "- `pop_urb_aggl_perc`\n",
        "- `prot_area_perc`\n",
        "- `pop_growth_perc`\n",
        "- `urb_pop_growth_perc`\n",
        "\n",
        "The process involves:\n",
        "- Filtering the dataset for a predefined list of selected countries.\n",
        "- Sorting the data by year for each country.\n",
        "- Calculating the CAGR for each feature based on its value in the earliest and latest available years.\n",
        "- Skipping entries where data is missing, invalid, or where the time range is insufficient.\n",
        "\n",
        "This analysis helps identify whether each feature has increased or decreased over time in each country, offering insights into national trends that may impact CO₂ emissions.\n",
        "\n",
        "The final output displays feature-wise growth rates (in percentages) for each country in the form:\n",
        "\n"
      ]
    },
    {
      "cell_type": "code",
      "execution_count": 24,
      "metadata": {
        "id": "_zF3jVCm0PP3"
      },
      "outputs": [],
      "source": [
        "# List of selected features\n",
        "selected_features = ['cereal_yield', 'gni_per_cap', 'en_per_cap',\n",
        "                     'pop_urb_aggl_perc', 'prot_area_perc',\n",
        "                     'pop_growth_perc', 'urb_pop_growth_perc']\n"
      ]
    },
    {
      "cell_type": "code",
      "execution_count": 25,
      "metadata": {
        "id": "Q1uZo74k0Pdn"
      },
      "outputs": [],
      "source": [
        "selected_countries = ['IND', 'USA', 'PAK', 'RUS', 'NZL']\n",
        "\n",
        "# Filter the dataset to include only the selected countries\n",
        "df_filtered = data[data['country'].isin(selected_countries)]\n",
        "\n",
        "# Dictionary to store the growth rates for each country\n",
        "growth_rates = {}\n",
        "\n",
        "# Loop over each selected country\n",
        "for country in selected_countries:\n",
        "    # Get data for the current country and sort it by year\n",
        "    country_data = data[(data['country'] == country)].sort_values('year')\n",
        "\n",
        "    # Identify the start and end year for the country\n",
        "    start_year = country_data['year'].min()\n",
        "    end_year = country_data['year'].max()\n",
        "    years = end_year - start_year  # Total number of years between start and end\n",
        "\n",
        "    # Dictionary to store growth rates of all features for the current country\n",
        "    country_growth = {}\n",
        "\n",
        "    # Skip this country if the time span is not valid (e.g., only one year of data)\n",
        "    if years <= 0:\n",
        "        print(f\"Skipping {country} due to insufficient year range.\")\n",
        "        continue\n",
        "\n",
        "    # Loop through each selected feature\n",
        "    for feature in selected_features:\n",
        "        # Get the feature value in the start year\n",
        "        start_value = country_data[country_data['year'] == start_year][feature].values\n",
        "        # Get the feature value in the end year\n",
        "        end_value = country_data[country_data['year'] == end_year][feature].values\n",
        "\n",
        "        # Skip if either value is missing\n",
        "        if len(start_value) == 0 or len(end_value) == 0:\n",
        "            continue\n",
        "\n",
        "        # Extract scalar values from arrays\n",
        "        start_value = start_value[0]\n",
        "        end_value = end_value[0]\n",
        "\n",
        "        # Skip if values are non-positive or not finite (e.g., NaN, inf)\n",
        "        if start_value <= 0 or end_value <= 0 or not np.isfinite(start_value) or not np.isfinite(end_value):\n",
        "            continue\n",
        "\n",
        "        # Compute the Compound Annual Growth Rate (CAGR)\n",
        "        cagr = (end_value / start_value) ** (1 / years) - 1\n",
        "        # Store the result in the country-specific dictionary\n",
        "        country_growth[feature] = cagr\n",
        "\n",
        "    # Save the growth rates of all features for the current country\n",
        "    growth_rates[country] = country_growth"
      ]
    },
    {
      "cell_type": "code",
      "execution_count": 26,
      "metadata": {
        "colab": {
          "base_uri": "https://localhost:8080/"
        },
        "id": "1qYXvj7ivzG_",
        "outputId": "73bbcf3b-8c8a-4bcc-b6bb-9fb0c4647f4c"
      },
      "outputs": [
        {
          "name": "stdout",
          "output_type": "stream",
          "text": [
            "\n",
            "Growth Rates (CAGR) from 1991 to 2008:\n",
            "\n",
            "IND\n",
            "  • cereal_yield: +1.94%\n",
            "  • gni_per_cap: +6.85%\n",
            "  • en_per_cap: +2.12%\n",
            "  • pop_urb_aggl_perc: +1.26%\n",
            "  • prot_area_perc: +0.35%\n",
            "  • pop_growth_perc: −2.28%\n",
            "  • urb_pop_growth_perc: −1.26%\n",
            "\n",
            "USA\n",
            "  • cereal_yield: +2.28%\n",
            "  • gni_per_cap: +4.26%\n",
            "  • en_per_cap: −0.12%\n",
            "  • pop_urb_aggl_perc: +0.40%\n",
            "  • prot_area_perc: +0.01%\n",
            "  • pop_growth_perc: −2.16%\n",
            "  • urb_pop_growth_perc: −2.15%\n",
            "\n",
            "PAK\n",
            "  • cereal_yield: +2.29%\n",
            "  • gni_per_cap: +5.00%\n",
            "  • en_per_cap: +1.50%\n",
            "  • pop_urb_aggl_perc: +0.84%\n",
            "  • prot_area_perc: +0.01%\n",
            "  • pop_growth_perc: −2.46%\n",
            "  • urb_pop_growth_perc: −1.01%\n",
            "\n",
            "RUS\n",
            "  • cereal_yield: +1.99%\n",
            "  • gni_per_cap: +7.41%\n",
            "  • en_per_cap: −0.61%\n",
            "  • pop_urb_aggl_perc: +0.48%\n",
            "  • prot_area_perc: +0.46%\n",
            "\n",
            "NZL\n",
            "  • cereal_yield: +1.96%\n",
            "  • gni_per_cap: +5.00%\n",
            "  • en_per_cap: +0.39%\n",
            "  • pop_urb_aggl_perc: +1.15%\n",
            "  • prot_area_perc: +0.17%\n",
            "  • pop_growth_perc: −2.04%\n",
            "  • urb_pop_growth_perc: −1.83%\n",
            "\n"
          ]
        }
      ],
      "source": [
        "# Display the calculated growth rates in a readable format\n",
        "print(\"\\nGrowth Rates (CAGR) from {} to {}:\\n\".format(start_year, end_year))\n",
        "\n",
        "# Loop through each country and its corresponding growth rate dictionary\n",
        "for country, features in growth_rates.items():\n",
        "    print(f\"{country}\")  # Print the country name with an icon\n",
        "\n",
        "    # Loop through each feature and its CAGR value\n",
        "    for feature, rate in features.items():\n",
        "        # Determine whether to display a plus or minus sign\n",
        "        sign = '+' if rate >= 0 else '−'\n",
        "\n",
        "        # Print the feature name and its growth rate percentage (formatted to two decimal places)\n",
        "        print(f\"  • {feature}: {sign}{abs(rate * 100):.2f}%\")\n",
        "\n",
        "    # Add a line break between countries for readability\n",
        "    print()"
      ]
    },
    {
      "cell_type": "markdown",
      "metadata": {
        "id": "cL4P5bph0bhn"
      },
      "source": [
        "### 📌 Compound Annual Growth Rate (CAGR) Analysis (1991–2008)\n",
        "\n",
        "The CAGR analysis across selected countries reveals the following key insights:\n",
        "\n",
        "1. **Strong Economic Growth**  \n",
        "   - All countries demonstrated **positive GNI per capita growth**, with **Russia (+7.41%)**, **India (+6.85%)**, and **Pakistan/New Zealand (both +5.00%)** showing particularly high rates, indicating robust economic expansion over the period.\n",
        "\n",
        "2. **Agricultural Productivity**  \n",
        "   - **Cereal yield** improved consistently in all countries, with **Pakistan (+2.29%)** and the **USA (+2.28%)** leading. This suggests sustained advances in agricultural practices and technologies.\n",
        "\n",
        "3. **Energy Use Trends**  \n",
        "   - **India and Pakistan** saw positive growth in per capita energy use, while **Russia (−0.61%)** and the **USA (−0.12%)** experienced slight declines, possibly reflecting early energy efficiency efforts or shifts in industrial patterns.\n",
        "\n",
        "4. **Urbanization Patterns**  \n",
        "   - Moderate increases in **urban agglomeration percentages** across all countries suggest gradual urbanization.\n",
        "   - Notably, **population growth rate** and **urban population growth rate** showed **declines across the board**, likely due to slowing population expansion and stabilizing urban migration.\n",
        "\n",
        "5. **Protected Area Growth**  \n",
        "   - Growth in **protected land areas** remained positive but modest, with the highest in **Russia (+0.46%)** and **India (+0.35%)**, indicating incremental progress in environmental conservation.\n",
        "\n",
        "Overall, the data indicates **economic and agricultural development across all countries**, with varied trends in energy consumption and urban growth. Declining population growth metrics suggest demographic transitions, while slow progress in environmental protection underscores the need for stronger conservation efforts moving forward.\n",
        "\n",
        "---"
      ]
    },
    {
      "cell_type": "markdown",
      "metadata": {
        "id": "wFYB5kCa3Bhz"
      },
      "source": [
        "### 🔮 Forecasting CO₂ Emissions per Capita (Next 20 Years)\n",
        "\n",
        "This block of code projects future CO₂ emissions per capita for the selected countries using the following steps:\n",
        "\n",
        "1. **Future Timeline Definition**  \n",
        "   The forecast is made for the next 20 years beyond the latest year in the dataset.\n",
        "\n",
        "2. **Base Year Feature Extraction**  \n",
        "   For each country, the most recent complete feature row is extracted.\n",
        "\n",
        "3. **Feature Growth Simulation**  \n",
        "   Using previously calculated **Compound Annual Growth Rates (CAGR)**, each feature's value is incrementally grown year by year.\n",
        "\n",
        "4. **CO₂ Prediction**  \n",
        "   The pre-trained Random Forest model is used to predict CO₂ emissions per capita for each simulated future year, based on updated feature values.\n",
        "\n",
        "5. **Results Compilation and Visualization**  \n",
        "   - Forecasted results are stored and converted into a DataFrame.\n",
        "   - A line plot displays the projected trends in CO₂ emissions per capita.\n",
        "   - A preview of the last 5 forecasted years for India is shown in tabular format.\n"
      ]
    },
    {
      "cell_type": "code",
      "execution_count": 27,
      "metadata": {
        "id": "iYB7zjb_0M95"
      },
      "outputs": [],
      "source": [
        "# Define the range of years to forecast (next 20 years beyond the last available year)\n",
        "last_year = data['year'].max()\n",
        "future_years = list(range(last_year + 1, last_year + 21))"
      ]
    },
    {
      "cell_type": "code",
      "execution_count": 28,
      "metadata": {
        "id": "0dWzyyVC0NA5"
      },
      "outputs": [],
      "source": [
        "# Initialize a list to store forecasted results\n",
        "forecast_results = []\n",
        "\n",
        "# Loop through each selected country for prediction\n",
        "for country in selected_countries:\n",
        "    country_data = data[(data['country'] == country)].sort_values('year')\n",
        "\n",
        "    # Skip countries with missing feature values\n",
        "    if country_data[selected_features].dropna().empty:\n",
        "        print(f\"Skipping {country} due to missing values.\")\n",
        "        continue\n",
        "\n",
        "    # Take the latest complete record (most recent year) for the country\n",
        "    latest_row = country_data[selected_features].dropna().iloc[-1].copy()\n",
        "\n",
        "    # Forecast for each year into the future\n",
        "    for year in future_years:\n",
        "        # Apply the previously calculated CAGR to each feature\n",
        "        for feature in selected_features:\n",
        "            growth_rate = growth_rates.get(country, {}).get(feature, 0.0)\n",
        "            latest_row[feature] *= (1 + growth_rate)\n",
        "\n",
        "        # Use trained model to predict CO₂ emissions per capita\n",
        "        input_features = latest_row.values.reshape(1, -1)\n",
        "        predicted_co2 = loaded_model.predict(input_features)[0]\n",
        "\n",
        "        # Store the forecast result\n",
        "        forecast_results.append({\n",
        "            'country': country,\n",
        "            'year': year,\n",
        "            'co2_percap': predicted_co2\n",
        "        })"
      ]
    },
    {
      "cell_type": "code",
      "execution_count": 37,
      "metadata": {
        "colab": {
          "base_uri": "https://localhost:8080/",
          "height": 655
        },
        "id": "yhEzqP5Dv8Do",
        "outputId": "ec5ce01e-6d06-4fce-d5e2-ab08bd0f38e7"
      },
      "outputs": [
        {
          "name": "stdout",
          "output_type": "stream",
          "text": [
            "📈 Forecasted CO₂ Emissions per Capita (Next 20 Years)\n"
          ]
        },
        {
          "data": {
            "image/png": "[encoded data removed]",
            "text/plain": [
              "<Figure size 1000x600 with 1 Axes>"
            ]
          },
          "metadata": {},
          "output_type": "display_data"
        },
        {
          "name": "stdout",
          "output_type": "stream",
          "text": [
            "\n",
            "📊 Forecasted CO2 per Capita for Last 5 Years in Forecast Period (India):\n",
            "\n",
            "   country  year  co2_percap\n",
            "15     IND  2024    1.538156\n",
            "16     IND  2025    1.564411\n",
            "17     IND  2026    1.586332\n",
            "18     IND  2027    1.717992\n",
            "19     IND  2028    2.084860\n"
          ]
        }
      ],
      "source": [
        "# Convert the list of predictions into a DataFrame\n",
        "df_forecast = pd.DataFrame(forecast_results)\n",
        "\n",
        "# Plot forecasted CO₂ per capita for all countries over the next 20 years\n",
        "print('📈 Forecasted CO₂ Emissions per Capita (Next 20 Years)')\n",
        "plt.figure(figsize=(10, 6))\n",
        "sns.lineplot(data=df_forecast, x='year', y='co2_percap', hue='country', marker='o')\n",
        "plt.title('Forecasted CO2 Emissions per Capita (Next 20 Years)', fontsize=14)\n",
        "plt.xlabel('Year', fontsize=12)\n",
        "plt.ylabel('CO2 per Capita (metric tons)', fontsize=12)\n",
        "plt.xticks(rotation=45, ha='right')\n",
        "plt.grid(True)\n",
        "plt.tight_layout()\n",
        "plt.show()\n",
        "\n",
        "# Print the forecast values for the last 5 years for India\n",
        "print(\"\\n📊 Forecasted CO2 per Capita for Last 5 Years in Forecast Period (India):\\n\")\n",
        "print(df_forecast[df_forecast['country'] == 'IND'].sort_values(by='year').tail(5))"
      ]
    },
    {
      "cell_type": "markdown",
      "metadata": {
        "id": "gdIbD8Laex69"
      },
      "source": [
        "***\n",
        "\n",
        "This plot illustrates the projected trends of CO₂ emissions per capita for five countries — USA, RUS, NZL, IND, and PAK — over a 20-year period.\n",
        "\n",
        "####🔍 **Key Insights**:\n",
        "\n",
        "USA:\n",
        "- Starts with the highest CO₂ emissions per capita (~17 metric tons) but shows a steady decline over time. Despite the drop, it remains the highest emitter per person.\n",
        "\n",
        "RUS:\n",
        "\n",
        "- Has relatively stable emissions with a slight downward trend, indicating moderate policy or behavioral changes.\n",
        "\n",
        "NZL:\n",
        "\n",
        "- Shows gradual growth in emissions per capita, which may suggest increased industrial or transport-related emissions.\n",
        "\n",
        "IND & PAK:\n",
        "\n",
        "- Begin with very low per capita emissions (~1.5–2 metric tons) but display a gradual upward trend.\n",
        "\n",
        "This suggests economic growth and development, which often correlate with increased energy use.\n",
        "\n",
        "- Developed nations (like the USA and Russia) are reducing their per capita emissions, likely due to energy transition policies and technology upgrades.\n",
        "\n",
        "- Developing countries (like India and Pakistan) are on an upward trajectory, likely due to industrialization and increased energy demand.\n",
        "\n",
        "This indicates a global convergence of emissions, but with differing starting points and growth rates."
      ]
    }
  ],
  "metadata": {
    "accelerator": "GPU",
    "colab": {
      "gpuType": "T4",
      "provenance": []
    },
    "kernelspec": {
      "display_name": "Python 3",
      "name": "python3"
    },
    "language_info": {
      "codemirror_mode": {
        "name": "ipython",
        "version": 3
      },
      "file_extension": ".py",
      "mimetype": "text/x-python",
      "name": "python",
      "nbconvert_exporter": "python",
      "pygments_lexer": "ipython3",
      "version": "3.12.8"
    }
  },
  "nbformat": 4,
  "nbformat_minor": 0
}
